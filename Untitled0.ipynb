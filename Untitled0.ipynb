{
  "nbformat": 4,
  "nbformat_minor": 0,
  "metadata": {
    "colab": {
      "name": "Untitled0.ipynb",
      "provenance": [],
      "include_colab_link": true
    },
    "kernelspec": {
      "name": "python3",
      "display_name": "Python 3"
    }
  },
  "cells": [
    {
      "cell_type": "markdown",
      "metadata": {
        "id": "view-in-github",
        "colab_type": "text"
      },
      "source": [
        "<a href=\"https://colab.research.google.com/github/GB1111/Coursera_Capstone/blob/master/Untitled0.ipynb\" target=\"_parent\"><img src=\"https://colab.research.google.com/assets/colab-badge.svg\" alt=\"Open In Colab\"/></a>"
      ]
    },
    {
      "cell_type": "code",
      "metadata": {
        "id": "ddER_-AHIE-F",
        "colab_type": "code",
        "outputId": "ff512e28-1fc6-4b88-ac3b-67b9db1edb1e",
        "colab": {
          "base_uri": "https://localhost:8080/",
          "height": 34
        }
      },
      "source": [
        "import numpy as np # library to handle data in a vectorized manner\n",
        "import pandas as pd # library for data analsysis\n",
        "import requests # Library for web scraping\n",
        "\n",
        "print('Libraries imported.')"
      ],
      "execution_count": 0,
      "outputs": [
        {
          "output_type": "stream",
          "text": [
            "Libraries imported.\n"
          ],
          "name": "stdout"
        }
      ]
    },
    {
      "cell_type": "code",
      "metadata": {
        "id": "yA_R__guohUF",
        "colab_type": "code",
        "outputId": "91b21ce2-11ce-472e-ae45-d228d003025c",
        "colab": {
          "base_uri": "https://localhost:8080/",
          "height": 34
        }
      },
      "source": [
        "# To run this, you can install BeautifulSoup\n",
        "# https://pypi.python.org/pypi/beautifulsoup4\n",
        "\n",
        "# Or download the file\n",
        "# http://beautiful-soup-4\n",
        "# and unzip it in the same directory as this file\n",
        "import requests\n",
        "from urllib.request import urlopen\n",
        "from bs4 import BeautifulSoup\n",
        "import ssl\n",
        "import csv\n",
        "\n",
        "print('BeautifulSoup  & csv imported.')"
      ],
      "execution_count": 0,
      "outputs": [
        {
          "output_type": "stream",
          "text": [
            "BeautifulSoup  & csv imported.\n"
          ],
          "name": "stdout"
        }
      ]
    },
    {
      "cell_type": "code",
      "metadata": {
        "id": "Eg1sHzliokpw",
        "colab_type": "code",
        "outputId": "06634aba-0e0c-4136-fc7b-ccfcb4b1175d",
        "colab": {
          "base_uri": "https://localhost:8080/",
          "height": 34
        }
      },
      "source": [
        "# Ignore SSL certificate errors\n",
        "ctx = ssl.create_default_context()\n",
        "ctx.check_hostname = False\n",
        "ctx.verify_mode = ssl.CERT_NONE\n",
        "\n",
        "print('SSL certificate errors ignored.')"
      ],
      "execution_count": 0,
      "outputs": [
        {
          "output_type": "stream",
          "text": [
            "SSL certificate errors ignored.\n"
          ],
          "name": "stdout"
        }
      ]
    },
    {
      "cell_type": "code",
      "metadata": {
        "id": "AiN3mBqDopcS",
        "colab_type": "code",
        "outputId": "7f0a33c8-1f97-4940-f2f1-ec285eaea1e4",
        "colab": {
          "base_uri": "https://localhost:8080/",
          "height": 34
        }
      },
      "source": [
        "source = requests.get('https://worldpostalcode.com/india/maharashtra/pune/').text\n",
        "\n",
        "soup = BeautifulSoup(source, 'lxml')\n",
        "\n",
        "#print(soup.prettify())\n",
        "print('soup ready')"
      ],
      "execution_count": 0,
      "outputs": [
        {
          "output_type": "stream",
          "text": [
            "soup ready\n"
          ],
          "name": "stdout"
        }
      ]
    },
    {
      "cell_type": "code",
      "metadata": {
        "id": "3KnvBMI2or7o",
        "colab_type": "code",
        "outputId": "02bbe1db-42ab-483f-c3f3-95e7ef790fb6",
        "colab": {
          "base_uri": "https://localhost:8080/",
          "height": 71
        }
      },
      "source": [
        "table = soup.find_all('div', {'class':'regions'})\n",
        "table"
      ],
      "execution_count": 0,
      "outputs": [
        {
          "output_type": "execute_result",
          "data": {
            "text/plain": [
              "[<div class=\"regions\"><a href=\"/india/maharashtra/pune/ambegaon\">Ambegaon</a><a href=\"/india/maharashtra/pune/baramati\">Baramati</a><a href=\"/india/maharashtra/pune/bhor\">Bhor</a><a href=\"/india/maharashtra/pune/daund\">Daund</a><a href=\"/india/maharashtra/pune/haveli\">Haveli</a><a href=\"/india/maharashtra/pune/indapur\">Indapur</a><a href=\"/india/maharashtra/pune/junnar\">Junnar</a><a href=\"/india/maharashtra/pune/khed\">Khed</a><a href=\"/india/maharashtra/pune/maval\">Maval</a><a href=\"/india/maharashtra/pune/mawal\">Mawal</a><a href=\"/india/maharashtra/pune/mulashi\">Mulashi</a><a href=\"/india/maharashtra/pune/mulshi\">Mulshi</a><a href=\"/india/maharashtra/pune/na\">Na</a><a href=\"/india/maharashtra/pune/pune-city\">Pune City</a><a href=\"/india/maharashtra/pune/purandar\">Purandar</a><a href=\"/india/maharashtra/pune/purandhar\">Purandhar</a><a href=\"/india/maharashtra/pune/shirur\">Shirur</a><a href=\"/india/maharashtra/pune/shiurur\">Shiurur</a><a href=\"/india/maharashtra/pune/velhe\">Velhe</a></div>,\n",
              " <div class=\"regions\"><a href=\"/india/maharashtra/raigarh/\">Raigarh</a><a href=\"/india/maharashtra/ratnagiri/\">Ratnagiri</a><a href=\"/india/maharashtra/sangli/\">Sangli</a><a href=\"/india/maharashtra/satara/\">Satara</a><a href=\"/india/maharashtra/sindhudurg/\">Sindhudurg</a><a href=\"/india/maharashtra/solapur/\">Solapur</a><a href=\"/india/maharashtra/thane/\">Thane</a><a href=\"/india/maharashtra/wardha/\">Wardha</a></div>]"
            ]
          },
          "metadata": {
            "tags": []
          },
          "execution_count": 5
        }
      ]
    },
    {
      "cell_type": "code",
      "metadata": {
        "id": "mAemiv0ao0T_",
        "colab_type": "code",
        "colab": {}
      },
      "source": [
        "import re\n",
        "areas=[]\n",
        "#for link in soup.find_all('a', re.compile(\"^/india/maharashtra/pune\")):\n",
        "#for link in soup.find_all('a', re.compile(\"https://worldpostalcode.com/india/maharashtra/pune/\")):\n",
        "for link in soup.find_all('a'):\n",
        "    areas.append(link.text)"
      ],
      "execution_count": 0,
      "outputs": []
    },
    {
      "cell_type": "code",
      "metadata": {
        "id": "JAdrLvB2o2mr",
        "colab_type": "code",
        "outputId": "51d86b94-5cf5-4ce8-a2ab-e67e739356df",
        "colab": {
          "base_uri": "https://localhost:8080/",
          "height": 638
        }
      },
      "source": [
        "df_area = pd.DataFrame({'Area Name':areas}) \n",
        "df_area = df_area.iloc[10:29]\n",
        "df_area = df_area.reset_index()\n",
        "del df_area['index']\n",
        "df_area.head(150)"
      ],
      "execution_count": 0,
      "outputs": [
        {
          "output_type": "execute_result",
          "data": {
            "text/html": [
              "<div>\n",
              "<style scoped>\n",
              "    .dataframe tbody tr th:only-of-type {\n",
              "        vertical-align: middle;\n",
              "    }\n",
              "\n",
              "    .dataframe tbody tr th {\n",
              "        vertical-align: top;\n",
              "    }\n",
              "\n",
              "    .dataframe thead th {\n",
              "        text-align: right;\n",
              "    }\n",
              "</style>\n",
              "<table border=\"1\" class=\"dataframe\">\n",
              "  <thead>\n",
              "    <tr style=\"text-align: right;\">\n",
              "      <th></th>\n",
              "      <th>Area Name</th>\n",
              "    </tr>\n",
              "  </thead>\n",
              "  <tbody>\n",
              "    <tr>\n",
              "      <th>0</th>\n",
              "      <td>Ambegaon</td>\n",
              "    </tr>\n",
              "    <tr>\n",
              "      <th>1</th>\n",
              "      <td>Baramati</td>\n",
              "    </tr>\n",
              "    <tr>\n",
              "      <th>2</th>\n",
              "      <td>Bhor</td>\n",
              "    </tr>\n",
              "    <tr>\n",
              "      <th>3</th>\n",
              "      <td>Daund</td>\n",
              "    </tr>\n",
              "    <tr>\n",
              "      <th>4</th>\n",
              "      <td>Haveli</td>\n",
              "    </tr>\n",
              "    <tr>\n",
              "      <th>5</th>\n",
              "      <td>Indapur</td>\n",
              "    </tr>\n",
              "    <tr>\n",
              "      <th>6</th>\n",
              "      <td>Junnar</td>\n",
              "    </tr>\n",
              "    <tr>\n",
              "      <th>7</th>\n",
              "      <td>Khed</td>\n",
              "    </tr>\n",
              "    <tr>\n",
              "      <th>8</th>\n",
              "      <td>Maval</td>\n",
              "    </tr>\n",
              "    <tr>\n",
              "      <th>9</th>\n",
              "      <td>Mawal</td>\n",
              "    </tr>\n",
              "    <tr>\n",
              "      <th>10</th>\n",
              "      <td>Mulashi</td>\n",
              "    </tr>\n",
              "    <tr>\n",
              "      <th>11</th>\n",
              "      <td>Mulshi</td>\n",
              "    </tr>\n",
              "    <tr>\n",
              "      <th>12</th>\n",
              "      <td>Na</td>\n",
              "    </tr>\n",
              "    <tr>\n",
              "      <th>13</th>\n",
              "      <td>Pune City</td>\n",
              "    </tr>\n",
              "    <tr>\n",
              "      <th>14</th>\n",
              "      <td>Purandar</td>\n",
              "    </tr>\n",
              "    <tr>\n",
              "      <th>15</th>\n",
              "      <td>Purandhar</td>\n",
              "    </tr>\n",
              "    <tr>\n",
              "      <th>16</th>\n",
              "      <td>Shirur</td>\n",
              "    </tr>\n",
              "    <tr>\n",
              "      <th>17</th>\n",
              "      <td>Shiurur</td>\n",
              "    </tr>\n",
              "    <tr>\n",
              "      <th>18</th>\n",
              "      <td>Velhe</td>\n",
              "    </tr>\n",
              "  </tbody>\n",
              "</table>\n",
              "</div>"
            ],
            "text/plain": [
              "    Area Name\n",
              "0    Ambegaon\n",
              "1    Baramati\n",
              "2        Bhor\n",
              "3       Daund\n",
              "4      Haveli\n",
              "5     Indapur\n",
              "6      Junnar\n",
              "7        Khed\n",
              "8       Maval\n",
              "9       Mawal\n",
              "10    Mulashi\n",
              "11     Mulshi\n",
              "12         Na\n",
              "13  Pune City\n",
              "14   Purandar\n",
              "15  Purandhar\n",
              "16     Shirur\n",
              "17    Shiurur\n",
              "18      Velhe"
            ]
          },
          "metadata": {
            "tags": []
          },
          "execution_count": 8
        }
      ]
    },
    {
      "cell_type": "code",
      "metadata": {
        "id": "lbSdAimBo5NB",
        "colab_type": "code",
        "colab": {}
      },
      "source": [
        "import re\n",
        "area_links=[]\n",
        "#for link in soup.find_all('a', re.compile(\"^/india/maharashtra/pune\")):\n",
        "#for link in soup.find_all('a', re.compile(\"https://worldpostalcode.com/india/maharashtra/pune/\")):\n",
        "for link in soup.find_all('a'):\n",
        "    area_links.append(link.get('href'))"
      ],
      "execution_count": 0,
      "outputs": []
    },
    {
      "cell_type": "code",
      "metadata": {
        "id": "tbj2La-opAJL",
        "colab_type": "code",
        "outputId": "b7875897-e993-49b0-8330-c06ddde1e579",
        "colab": {
          "base_uri": "https://localhost:8080/",
          "height": 638
        }
      },
      "source": [
        "df_area_links = pd.DataFrame({'Area Links':area_links}) \n",
        "df_area_links = df_area_links.iloc[10:29]\n",
        "df_area_links = df_area_links.reset_index()\n",
        "del df_area_links['index']\n",
        "df_area_links.head(150)"
      ],
      "execution_count": 0,
      "outputs": [
        {
          "output_type": "execute_result",
          "data": {
            "text/html": [
              "<div>\n",
              "<style scoped>\n",
              "    .dataframe tbody tr th:only-of-type {\n",
              "        vertical-align: middle;\n",
              "    }\n",
              "\n",
              "    .dataframe tbody tr th {\n",
              "        vertical-align: top;\n",
              "    }\n",
              "\n",
              "    .dataframe thead th {\n",
              "        text-align: right;\n",
              "    }\n",
              "</style>\n",
              "<table border=\"1\" class=\"dataframe\">\n",
              "  <thead>\n",
              "    <tr style=\"text-align: right;\">\n",
              "      <th></th>\n",
              "      <th>Area Links</th>\n",
              "    </tr>\n",
              "  </thead>\n",
              "  <tbody>\n",
              "    <tr>\n",
              "      <th>0</th>\n",
              "      <td>/india/maharashtra/pune/ambegaon</td>\n",
              "    </tr>\n",
              "    <tr>\n",
              "      <th>1</th>\n",
              "      <td>/india/maharashtra/pune/baramati</td>\n",
              "    </tr>\n",
              "    <tr>\n",
              "      <th>2</th>\n",
              "      <td>/india/maharashtra/pune/bhor</td>\n",
              "    </tr>\n",
              "    <tr>\n",
              "      <th>3</th>\n",
              "      <td>/india/maharashtra/pune/daund</td>\n",
              "    </tr>\n",
              "    <tr>\n",
              "      <th>4</th>\n",
              "      <td>/india/maharashtra/pune/haveli</td>\n",
              "    </tr>\n",
              "    <tr>\n",
              "      <th>5</th>\n",
              "      <td>/india/maharashtra/pune/indapur</td>\n",
              "    </tr>\n",
              "    <tr>\n",
              "      <th>6</th>\n",
              "      <td>/india/maharashtra/pune/junnar</td>\n",
              "    </tr>\n",
              "    <tr>\n",
              "      <th>7</th>\n",
              "      <td>/india/maharashtra/pune/khed</td>\n",
              "    </tr>\n",
              "    <tr>\n",
              "      <th>8</th>\n",
              "      <td>/india/maharashtra/pune/maval</td>\n",
              "    </tr>\n",
              "    <tr>\n",
              "      <th>9</th>\n",
              "      <td>/india/maharashtra/pune/mawal</td>\n",
              "    </tr>\n",
              "    <tr>\n",
              "      <th>10</th>\n",
              "      <td>/india/maharashtra/pune/mulashi</td>\n",
              "    </tr>\n",
              "    <tr>\n",
              "      <th>11</th>\n",
              "      <td>/india/maharashtra/pune/mulshi</td>\n",
              "    </tr>\n",
              "    <tr>\n",
              "      <th>12</th>\n",
              "      <td>/india/maharashtra/pune/na</td>\n",
              "    </tr>\n",
              "    <tr>\n",
              "      <th>13</th>\n",
              "      <td>/india/maharashtra/pune/pune-city</td>\n",
              "    </tr>\n",
              "    <tr>\n",
              "      <th>14</th>\n",
              "      <td>/india/maharashtra/pune/purandar</td>\n",
              "    </tr>\n",
              "    <tr>\n",
              "      <th>15</th>\n",
              "      <td>/india/maharashtra/pune/purandhar</td>\n",
              "    </tr>\n",
              "    <tr>\n",
              "      <th>16</th>\n",
              "      <td>/india/maharashtra/pune/shirur</td>\n",
              "    </tr>\n",
              "    <tr>\n",
              "      <th>17</th>\n",
              "      <td>/india/maharashtra/pune/shiurur</td>\n",
              "    </tr>\n",
              "    <tr>\n",
              "      <th>18</th>\n",
              "      <td>/india/maharashtra/pune/velhe</td>\n",
              "    </tr>\n",
              "  </tbody>\n",
              "</table>\n",
              "</div>"
            ],
            "text/plain": [
              "                           Area Links\n",
              "0    /india/maharashtra/pune/ambegaon\n",
              "1    /india/maharashtra/pune/baramati\n",
              "2        /india/maharashtra/pune/bhor\n",
              "3       /india/maharashtra/pune/daund\n",
              "4      /india/maharashtra/pune/haveli\n",
              "5     /india/maharashtra/pune/indapur\n",
              "6      /india/maharashtra/pune/junnar\n",
              "7        /india/maharashtra/pune/khed\n",
              "8       /india/maharashtra/pune/maval\n",
              "9       /india/maharashtra/pune/mawal\n",
              "10    /india/maharashtra/pune/mulashi\n",
              "11     /india/maharashtra/pune/mulshi\n",
              "12         /india/maharashtra/pune/na\n",
              "13  /india/maharashtra/pune/pune-city\n",
              "14   /india/maharashtra/pune/purandar\n",
              "15  /india/maharashtra/pune/purandhar\n",
              "16     /india/maharashtra/pune/shirur\n",
              "17    /india/maharashtra/pune/shiurur\n",
              "18      /india/maharashtra/pune/velhe"
            ]
          },
          "metadata": {
            "tags": []
          },
          "execution_count": 10
        }
      ]
    },
    {
      "cell_type": "code",
      "metadata": {
        "id": "bhrEydYIpAXi",
        "colab_type": "code",
        "outputId": "64d8d4fb-9f8d-416a-8983-30405a42bee9",
        "colab": {
          "base_uri": "https://localhost:8080/",
          "height": 204
        }
      },
      "source": [
        "#df_area_links['Area Links']= df_area_links['Area Links'].str.replace('/india','https://worldpostalcode.com/india/maharashtra/pune/')\n",
        "df_area_links['Area Links']= 'https://worldpostalcode.com' + df_area_links['Area Links'].astype(str)\n",
        "df_area_links.head(5)"
      ],
      "execution_count": 0,
      "outputs": [
        {
          "output_type": "execute_result",
          "data": {
            "text/html": [
              "<div>\n",
              "<style scoped>\n",
              "    .dataframe tbody tr th:only-of-type {\n",
              "        vertical-align: middle;\n",
              "    }\n",
              "\n",
              "    .dataframe tbody tr th {\n",
              "        vertical-align: top;\n",
              "    }\n",
              "\n",
              "    .dataframe thead th {\n",
              "        text-align: right;\n",
              "    }\n",
              "</style>\n",
              "<table border=\"1\" class=\"dataframe\">\n",
              "  <thead>\n",
              "    <tr style=\"text-align: right;\">\n",
              "      <th></th>\n",
              "      <th>Area Links</th>\n",
              "    </tr>\n",
              "  </thead>\n",
              "  <tbody>\n",
              "    <tr>\n",
              "      <th>0</th>\n",
              "      <td>https://worldpostalcode.com/india/maharashtra/...</td>\n",
              "    </tr>\n",
              "    <tr>\n",
              "      <th>1</th>\n",
              "      <td>https://worldpostalcode.com/india/maharashtra/...</td>\n",
              "    </tr>\n",
              "    <tr>\n",
              "      <th>2</th>\n",
              "      <td>https://worldpostalcode.com/india/maharashtra/...</td>\n",
              "    </tr>\n",
              "    <tr>\n",
              "      <th>3</th>\n",
              "      <td>https://worldpostalcode.com/india/maharashtra/...</td>\n",
              "    </tr>\n",
              "    <tr>\n",
              "      <th>4</th>\n",
              "      <td>https://worldpostalcode.com/india/maharashtra/...</td>\n",
              "    </tr>\n",
              "  </tbody>\n",
              "</table>\n",
              "</div>"
            ],
            "text/plain": [
              "                                          Area Links\n",
              "0  https://worldpostalcode.com/india/maharashtra/...\n",
              "1  https://worldpostalcode.com/india/maharashtra/...\n",
              "2  https://worldpostalcode.com/india/maharashtra/...\n",
              "3  https://worldpostalcode.com/india/maharashtra/...\n",
              "4  https://worldpostalcode.com/india/maharashtra/..."
            ]
          },
          "metadata": {
            "tags": []
          },
          "execution_count": 11
        }
      ]
    },
    {
      "cell_type": "code",
      "metadata": {
        "id": "swEAQ_SLvkcI",
        "colab_type": "code",
        "outputId": "08ebc135-ce26-4939-fa72-b4d8fdc8ac38",
        "colab": {
          "base_uri": "https://localhost:8080/",
          "height": 340
        }
      },
      "source": [
        "list = df_area_links['Area Links'].to_list()\n",
        "list"
      ],
      "execution_count": 0,
      "outputs": [
        {
          "output_type": "execute_result",
          "data": {
            "text/plain": [
              "['https://worldpostalcode.com/india/maharashtra/pune/ambegaon',\n",
              " 'https://worldpostalcode.com/india/maharashtra/pune/baramati',\n",
              " 'https://worldpostalcode.com/india/maharashtra/pune/bhor',\n",
              " 'https://worldpostalcode.com/india/maharashtra/pune/daund',\n",
              " 'https://worldpostalcode.com/india/maharashtra/pune/haveli',\n",
              " 'https://worldpostalcode.com/india/maharashtra/pune/indapur',\n",
              " 'https://worldpostalcode.com/india/maharashtra/pune/junnar',\n",
              " 'https://worldpostalcode.com/india/maharashtra/pune/khed',\n",
              " 'https://worldpostalcode.com/india/maharashtra/pune/maval',\n",
              " 'https://worldpostalcode.com/india/maharashtra/pune/mawal',\n",
              " 'https://worldpostalcode.com/india/maharashtra/pune/mulashi',\n",
              " 'https://worldpostalcode.com/india/maharashtra/pune/mulshi',\n",
              " 'https://worldpostalcode.com/india/maharashtra/pune/na',\n",
              " 'https://worldpostalcode.com/india/maharashtra/pune/pune-city',\n",
              " 'https://worldpostalcode.com/india/maharashtra/pune/purandar',\n",
              " 'https://worldpostalcode.com/india/maharashtra/pune/purandhar',\n",
              " 'https://worldpostalcode.com/india/maharashtra/pune/shirur',\n",
              " 'https://worldpostalcode.com/india/maharashtra/pune/shiurur',\n",
              " 'https://worldpostalcode.com/india/maharashtra/pune/velhe']"
            ]
          },
          "metadata": {
            "tags": []
          },
          "execution_count": 17
        }
      ]
    },
    {
      "cell_type": "code",
      "metadata": {
        "id": "4xdnARP_pAbR",
        "colab_type": "code",
        "outputId": "3fd254c7-d5eb-41d3-b337-ed9f7b6baf7b",
        "colab": {
          "base_uri": "https://localhost:8080/",
          "height": 697
        }
      },
      "source": [
        "\n",
        "for value in df_area_links.iteritems():\n",
        "    source2 = requests.get(value).text\n",
        "    soup2 = BeautifulSoup(source2, 'lxml')\n",
        "    places=[]\n",
        "    codes=[]\n",
        "\n",
        "    for a in soup2.find_all('div', attrs={'class':'unit'}):\n",
        "        place=a.find('div', attrs={'class':'place'})\n",
        "        code=a.find('div', attrs={'class':'code'})\n",
        "        places.append(place.text.strip())\n",
        "        codes.append(code.text.strip())"
      ],
      "execution_count": 0,
      "outputs": [
        {
          "output_type": "error",
          "ename": "InvalidSchema",
          "evalue": "ignored",
          "traceback": [
            "\u001b[0;31m---------------------------------------------------------------------------\u001b[0m",
            "\u001b[0;31mInvalidSchema\u001b[0m                             Traceback (most recent call last)",
            "\u001b[0;32m<ipython-input-12-0ca3ed147ea4>\u001b[0m in \u001b[0;36m<module>\u001b[0;34m()\u001b[0m\n\u001b[1;32m      1\u001b[0m \u001b[0;32mfor\u001b[0m \u001b[0mvalue\u001b[0m \u001b[0;32min\u001b[0m \u001b[0mdf_area_links\u001b[0m\u001b[0;34m.\u001b[0m\u001b[0miteritems\u001b[0m\u001b[0;34m(\u001b[0m\u001b[0;34m)\u001b[0m\u001b[0;34m:\u001b[0m\u001b[0;34m\u001b[0m\u001b[0;34m\u001b[0m\u001b[0m\n\u001b[0;32m----> 2\u001b[0;31m     \u001b[0msource2\u001b[0m \u001b[0;34m=\u001b[0m \u001b[0mrequests\u001b[0m\u001b[0;34m.\u001b[0m\u001b[0mget\u001b[0m\u001b[0;34m(\u001b[0m\u001b[0mvalue\u001b[0m\u001b[0;34m)\u001b[0m\u001b[0;34m.\u001b[0m\u001b[0mtext\u001b[0m\u001b[0;34m\u001b[0m\u001b[0;34m\u001b[0m\u001b[0m\n\u001b[0m\u001b[1;32m      3\u001b[0m     \u001b[0msoup2\u001b[0m \u001b[0;34m=\u001b[0m \u001b[0mBeautifulSoup\u001b[0m\u001b[0;34m(\u001b[0m\u001b[0msource2\u001b[0m\u001b[0;34m,\u001b[0m \u001b[0;34m'lxml'\u001b[0m\u001b[0;34m)\u001b[0m\u001b[0;34m\u001b[0m\u001b[0;34m\u001b[0m\u001b[0m\n\u001b[1;32m      4\u001b[0m     \u001b[0mplaces\u001b[0m\u001b[0;34m=\u001b[0m\u001b[0;34m[\u001b[0m\u001b[0;34m]\u001b[0m\u001b[0;34m\u001b[0m\u001b[0;34m\u001b[0m\u001b[0m\n\u001b[1;32m      5\u001b[0m     \u001b[0mcodes\u001b[0m\u001b[0;34m=\u001b[0m\u001b[0;34m[\u001b[0m\u001b[0;34m]\u001b[0m\u001b[0;34m\u001b[0m\u001b[0;34m\u001b[0m\u001b[0m\n",
            "\u001b[0;32m/usr/local/lib/python3.6/dist-packages/requests/api.py\u001b[0m in \u001b[0;36mget\u001b[0;34m(url, params, **kwargs)\u001b[0m\n\u001b[1;32m     73\u001b[0m \u001b[0;34m\u001b[0m\u001b[0m\n\u001b[1;32m     74\u001b[0m     \u001b[0mkwargs\u001b[0m\u001b[0;34m.\u001b[0m\u001b[0msetdefault\u001b[0m\u001b[0;34m(\u001b[0m\u001b[0;34m'allow_redirects'\u001b[0m\u001b[0;34m,\u001b[0m \u001b[0;32mTrue\u001b[0m\u001b[0;34m)\u001b[0m\u001b[0;34m\u001b[0m\u001b[0;34m\u001b[0m\u001b[0m\n\u001b[0;32m---> 75\u001b[0;31m     \u001b[0;32mreturn\u001b[0m \u001b[0mrequest\u001b[0m\u001b[0;34m(\u001b[0m\u001b[0;34m'get'\u001b[0m\u001b[0;34m,\u001b[0m \u001b[0murl\u001b[0m\u001b[0;34m,\u001b[0m \u001b[0mparams\u001b[0m\u001b[0;34m=\u001b[0m\u001b[0mparams\u001b[0m\u001b[0;34m,\u001b[0m \u001b[0;34m**\u001b[0m\u001b[0mkwargs\u001b[0m\u001b[0;34m)\u001b[0m\u001b[0;34m\u001b[0m\u001b[0;34m\u001b[0m\u001b[0m\n\u001b[0m\u001b[1;32m     76\u001b[0m \u001b[0;34m\u001b[0m\u001b[0m\n\u001b[1;32m     77\u001b[0m \u001b[0;34m\u001b[0m\u001b[0m\n",
            "\u001b[0;32m/usr/local/lib/python3.6/dist-packages/requests/api.py\u001b[0m in \u001b[0;36mrequest\u001b[0;34m(method, url, **kwargs)\u001b[0m\n\u001b[1;32m     58\u001b[0m     \u001b[0;31m# cases, and look like a memory leak in others.\u001b[0m\u001b[0;34m\u001b[0m\u001b[0;34m\u001b[0m\u001b[0;34m\u001b[0m\u001b[0m\n\u001b[1;32m     59\u001b[0m     \u001b[0;32mwith\u001b[0m \u001b[0msessions\u001b[0m\u001b[0;34m.\u001b[0m\u001b[0mSession\u001b[0m\u001b[0;34m(\u001b[0m\u001b[0;34m)\u001b[0m \u001b[0;32mas\u001b[0m \u001b[0msession\u001b[0m\u001b[0;34m:\u001b[0m\u001b[0;34m\u001b[0m\u001b[0;34m\u001b[0m\u001b[0m\n\u001b[0;32m---> 60\u001b[0;31m         \u001b[0;32mreturn\u001b[0m \u001b[0msession\u001b[0m\u001b[0;34m.\u001b[0m\u001b[0mrequest\u001b[0m\u001b[0;34m(\u001b[0m\u001b[0mmethod\u001b[0m\u001b[0;34m=\u001b[0m\u001b[0mmethod\u001b[0m\u001b[0;34m,\u001b[0m \u001b[0murl\u001b[0m\u001b[0;34m=\u001b[0m\u001b[0murl\u001b[0m\u001b[0;34m,\u001b[0m \u001b[0;34m**\u001b[0m\u001b[0mkwargs\u001b[0m\u001b[0;34m)\u001b[0m\u001b[0;34m\u001b[0m\u001b[0;34m\u001b[0m\u001b[0m\n\u001b[0m\u001b[1;32m     61\u001b[0m \u001b[0;34m\u001b[0m\u001b[0m\n\u001b[1;32m     62\u001b[0m \u001b[0;34m\u001b[0m\u001b[0m\n",
            "\u001b[0;32m/usr/local/lib/python3.6/dist-packages/requests/sessions.py\u001b[0m in \u001b[0;36mrequest\u001b[0;34m(self, method, url, params, data, headers, cookies, files, auth, timeout, allow_redirects, proxies, hooks, stream, verify, cert, json)\u001b[0m\n\u001b[1;32m    531\u001b[0m         }\n\u001b[1;32m    532\u001b[0m         \u001b[0msend_kwargs\u001b[0m\u001b[0;34m.\u001b[0m\u001b[0mupdate\u001b[0m\u001b[0;34m(\u001b[0m\u001b[0msettings\u001b[0m\u001b[0;34m)\u001b[0m\u001b[0;34m\u001b[0m\u001b[0;34m\u001b[0m\u001b[0m\n\u001b[0;32m--> 533\u001b[0;31m         \u001b[0mresp\u001b[0m \u001b[0;34m=\u001b[0m \u001b[0mself\u001b[0m\u001b[0;34m.\u001b[0m\u001b[0msend\u001b[0m\u001b[0;34m(\u001b[0m\u001b[0mprep\u001b[0m\u001b[0;34m,\u001b[0m \u001b[0;34m**\u001b[0m\u001b[0msend_kwargs\u001b[0m\u001b[0;34m)\u001b[0m\u001b[0;34m\u001b[0m\u001b[0;34m\u001b[0m\u001b[0m\n\u001b[0m\u001b[1;32m    534\u001b[0m \u001b[0;34m\u001b[0m\u001b[0m\n\u001b[1;32m    535\u001b[0m         \u001b[0;32mreturn\u001b[0m \u001b[0mresp\u001b[0m\u001b[0;34m\u001b[0m\u001b[0;34m\u001b[0m\u001b[0m\n",
            "\u001b[0;32m/usr/local/lib/python3.6/dist-packages/requests/sessions.py\u001b[0m in \u001b[0;36msend\u001b[0;34m(self, request, **kwargs)\u001b[0m\n\u001b[1;32m    638\u001b[0m \u001b[0;34m\u001b[0m\u001b[0m\n\u001b[1;32m    639\u001b[0m         \u001b[0;31m# Get the appropriate adapter to use\u001b[0m\u001b[0;34m\u001b[0m\u001b[0;34m\u001b[0m\u001b[0;34m\u001b[0m\u001b[0m\n\u001b[0;32m--> 640\u001b[0;31m         \u001b[0madapter\u001b[0m \u001b[0;34m=\u001b[0m \u001b[0mself\u001b[0m\u001b[0;34m.\u001b[0m\u001b[0mget_adapter\u001b[0m\u001b[0;34m(\u001b[0m\u001b[0murl\u001b[0m\u001b[0;34m=\u001b[0m\u001b[0mrequest\u001b[0m\u001b[0;34m.\u001b[0m\u001b[0murl\u001b[0m\u001b[0;34m)\u001b[0m\u001b[0;34m\u001b[0m\u001b[0;34m\u001b[0m\u001b[0m\n\u001b[0m\u001b[1;32m    641\u001b[0m \u001b[0;34m\u001b[0m\u001b[0m\n\u001b[1;32m    642\u001b[0m         \u001b[0;31m# Start time (approximately) of the request\u001b[0m\u001b[0;34m\u001b[0m\u001b[0;34m\u001b[0m\u001b[0;34m\u001b[0m\u001b[0m\n",
            "\u001b[0;32m/usr/local/lib/python3.6/dist-packages/requests/sessions.py\u001b[0m in \u001b[0;36mget_adapter\u001b[0;34m(self, url)\u001b[0m\n\u001b[1;32m    729\u001b[0m \u001b[0;34m\u001b[0m\u001b[0m\n\u001b[1;32m    730\u001b[0m         \u001b[0;31m# Nothing matches :-/\u001b[0m\u001b[0;34m\u001b[0m\u001b[0;34m\u001b[0m\u001b[0;34m\u001b[0m\u001b[0m\n\u001b[0;32m--> 731\u001b[0;31m         \u001b[0;32mraise\u001b[0m \u001b[0mInvalidSchema\u001b[0m\u001b[0;34m(\u001b[0m\u001b[0;34m\"No connection adapters were found for '%s'\"\u001b[0m \u001b[0;34m%\u001b[0m \u001b[0murl\u001b[0m\u001b[0;34m)\u001b[0m\u001b[0;34m\u001b[0m\u001b[0;34m\u001b[0m\u001b[0m\n\u001b[0m\u001b[1;32m    732\u001b[0m \u001b[0;34m\u001b[0m\u001b[0m\n\u001b[1;32m    733\u001b[0m     \u001b[0;32mdef\u001b[0m \u001b[0mclose\u001b[0m\u001b[0;34m(\u001b[0m\u001b[0mself\u001b[0m\u001b[0;34m)\u001b[0m\u001b[0;34m:\u001b[0m\u001b[0;34m\u001b[0m\u001b[0;34m\u001b[0m\u001b[0m\n",
            "\u001b[0;31mInvalidSchema\u001b[0m: No connection adapters were found for '('Area Links', 0     https://worldpostalcode.com/india/maharashtra/...\n1     https://worldpostalcode.com/india/maharashtra/...\n2     https://worldpostalcode.com/india/maharashtra/...\n3     https://worldpostalcode.com/india/maharashtra/...\n4     https://worldpostalcode.com/india/maharashtra/...\n5     https://worldpostalcode.com/india/maharashtra/...\n6     https://worldpostalcode.com/india/maharashtra/...\n7     https://worldpostalcode.com/india/maharashtra/...\n8     https://worldpostalcode.com/india/maharashtra/...\n9     https://worldpostalcode.com/india/maharashtra/...\n10    https://worldpostalcode.com/india/maharashtra/...\n11    https://worldpostalcode.com/india/maharashtra/...\n12    https://worldpostalcode.com/india/maharashtra/...\n13    https://worldpostalcode.com/india/maharashtra/...\n14    https://worldpostalcode.com/india/maharashtra/...\n15    https://worldpostalcode.com/india/maharashtra/...\n16    https://worldpostalcode.com/india/maharashtra/...\n17    https://worldpostalcode.com/india/maharashtra/...\n18    https://worldpostalcode.com/india/maharashtra/...\nName: Area Links, dtype: object)'"
          ]
        }
      ]
    },
    {
      "cell_type": "code",
      "metadata": {
        "id": "iUbKN_tDpAfw",
        "colab_type": "code",
        "colab": {}
      },
      "source": [
        "source2 = requests.get('https://worldpostalcode.com/india/maharashtra/pune/ambegaon').text\n",
        "\n",
        "soup2 = BeautifulSoup(source2, 'lxml')\n",
        "\n",
        "#print(soup.prettify())\n",
        "print('soup2 ready')"
      ],
      "execution_count": 0,
      "outputs": []
    },
    {
      "cell_type": "code",
      "metadata": {
        "id": "o-l5QZaEpAi0",
        "colab_type": "code",
        "colab": {}
      },
      "source": [
        "#table2 = soup2.find_all('div',{'class':''})\n",
        "places=[]\n",
        "codes=[]\n",
        "\n",
        "for a in soup2.find_all('div', attrs={'class':'unit'}):\n",
        "    place=a.find('div', attrs={'class':'place'})\n",
        "    code=a.find('div', attrs={'class':'code'})\n",
        "    places.append(place.text.strip())\n",
        "    codes.append(code.text.strip())\n"
      ],
      "execution_count": 0,
      "outputs": []
    },
    {
      "cell_type": "code",
      "metadata": {
        "id": "uE9cPvTMpW1Y",
        "colab_type": "code",
        "colab": {}
      },
      "source": [
        "#df = pd.DataFrame(data, columns=['PostalCode', 'Borough', 'Neighbourhood'])\n",
        "\n",
        "\n",
        "df = pd.DataFrame({'Place Name':places,'Postal Code':codes}) \n",
        "#df.to_csv('places.csv', index=False, encoding='utf-8')"
      ],
      "execution_count": 0,
      "outputs": []
    },
    {
      "cell_type": "code",
      "metadata": {
        "id": "l8DvB9NXpXAN",
        "colab_type": "code",
        "colab": {}
      },
      "source": [
        "df.head()"
      ],
      "execution_count": 0,
      "outputs": []
    }
  ]
}