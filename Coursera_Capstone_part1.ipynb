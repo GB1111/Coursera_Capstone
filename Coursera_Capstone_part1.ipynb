{
    "cells": [
        {
            "metadata": {},
            "cell_type": "markdown",
            "source": "# Question 1:\n"
        },
        {
            "metadata": {},
            "cell_type": "markdown",
            "source": "## 1.1. Notebook book created"
        },
        {
            "metadata": {},
            "cell_type": "code",
            "source": "import numpy as np # library to handle data in a vectorized manner\nimport pandas as pd # library for data analsysis\nimport requests # Library for web scraping\n\nprint('Libraries imported.')",
            "execution_count": 1,
            "outputs": [
                {
                    "output_type": "stream",
                    "text": "Libraries imported.\n",
                    "name": "stdout"
                }
            ]
        },
        {
            "metadata": {},
            "cell_type": "markdown",
            "source": "## 1.2. Web page scraped"
        },
        {
            "metadata": {},
            "cell_type": "code",
            "source": "# To run this, you can install BeautifulSoup\n# https://pypi.python.org/pypi/beautifulsoup4\n\n# Or download the file\n# http://beautiful-soup-4\n# and unzip it in the same directory as this file\nimport requests\nfrom urllib.request import urlopen\nfrom bs4 import BeautifulSoup\nimport ssl\nimport csv\n\nprint('BeautifulSoup  & csv imported.')",
            "execution_count": 2,
            "outputs": [
                {
                    "output_type": "stream",
                    "text": "BeautifulSoup  & csv imported.\n",
                    "name": "stdout"
                }
            ]
        },
        {
            "metadata": {},
            "cell_type": "code",
            "source": "# Ignore SSL certificate errors\nctx = ssl.create_default_context()\nctx.check_hostname = False\nctx.verify_mode = ssl.CERT_NONE\n\nprint('SSL certificate errors ignored.')",
            "execution_count": 3,
            "outputs": [
                {
                    "output_type": "stream",
                    "text": "SSL certificate errors ignored.\n",
                    "name": "stdout"
                }
            ]
        },
        {
            "metadata": {},
            "cell_type": "code",
            "source": "source = requests.get('https://en.wikipedia.org/wiki/List_of_postal_codes_of_Canada:_M').text\n\nsoup = BeautifulSoup(source, 'lxml')\n\n#print(soup.prettify())\nprint('soup ready')",
            "execution_count": 4,
            "outputs": [
                {
                    "output_type": "stream",
                    "text": "soup ready\n",
                    "name": "stdout"
                }
            ]
        },
        {
            "metadata": {},
            "cell_type": "code",
            "source": "table = soup.find('table',{'class':'wikitable sortable'})\n#table",
            "execution_count": 5,
            "outputs": []
        },
        {
            "metadata": {},
            "cell_type": "code",
            "source": "table_rows = table.find_all('tr')\n\ntable_rows",
            "execution_count": 6,
            "outputs": [
                {
                    "output_type": "execute_result",
                    "execution_count": 6,
                    "data": {
                        "text/plain": "[<tr>\n <th>Postal code\n </th>\n <th>Borough\n </th>\n <th>Neighborhood\n </th></tr>, <tr>\n <td>M1A\n </td>\n <td>Not assigned\n </td>\n <td>\n </td></tr>, <tr>\n <td>M2A\n </td>\n <td>Not assigned\n </td>\n <td>\n </td></tr>, <tr>\n <td>M3A\n </td>\n <td>North York\n </td>\n <td>Parkwoods\n </td></tr>, <tr>\n <td>M4A\n </td>\n <td>North York\n </td>\n <td>Victoria Village\n </td></tr>, <tr>\n <td>M5A\n </td>\n <td>Downtown Toronto\n </td>\n <td>Regent Park / Harbourfront\n </td></tr>, <tr>\n <td>M6A\n </td>\n <td>North York\n </td>\n <td>Lawrence Manor / Lawrence Heights\n </td></tr>, <tr>\n <td>M7A\n </td>\n <td>Downtown Toronto\n </td>\n <td>Queen's Park / Ontario Provincial Government\n </td></tr>, <tr>\n <td>M8A\n </td>\n <td>Not assigned\n </td>\n <td>\n </td></tr>, <tr>\n <td>M9A\n </td>\n <td>Etobicoke\n </td>\n <td>Islington Avenue\n </td></tr>, <tr>\n <td>M1B\n </td>\n <td>Scarborough\n </td>\n <td>Malvern / Rouge\n </td></tr>, <tr>\n <td>M2B\n </td>\n <td>Not assigned\n </td>\n <td>\n </td></tr>, <tr>\n <td>M3B\n </td>\n <td>North York\n </td>\n <td>Don Mills\n </td></tr>, <tr>\n <td>M4B\n </td>\n <td>East York\n </td>\n <td>Parkview Hill / Woodbine Gardens\n </td></tr>, <tr>\n <td>M5B\n </td>\n <td>Downtown Toronto\n </td>\n <td>Garden District, Ryerson\n </td></tr>, <tr>\n <td>M6B\n </td>\n <td>North York\n </td>\n <td>Glencairn\n </td></tr>, <tr>\n <td>M7B\n </td>\n <td>Not assigned\n </td>\n <td>\n </td></tr>, <tr>\n <td>M8B\n </td>\n <td>Not assigned\n </td>\n <td>\n </td></tr>, <tr>\n <td>M9B\n </td>\n <td>Etobicoke\n </td>\n <td>West Deane Park / Princess Gardens / Martin Grove / Islington / Cloverdale\n </td></tr>, <tr>\n <td>M1C\n </td>\n <td>Scarborough\n </td>\n <td>Rouge Hill / Port Union / Highland Creek\n </td></tr>, <tr>\n <td>M2C\n </td>\n <td>Not assigned\n </td>\n <td>\n </td></tr>, <tr>\n <td>M3C\n </td>\n <td>North York\n </td>\n <td>Don Mills\n </td></tr>, <tr>\n <td>M4C\n </td>\n <td>East York\n </td>\n <td>Woodbine Heights\n </td></tr>, <tr>\n <td>M5C\n </td>\n <td>Downtown Toronto\n </td>\n <td>St. James Town\n </td></tr>, <tr>\n <td>M6C\n </td>\n <td>York\n </td>\n <td>Humewood-Cedarvale\n </td></tr>, <tr>\n <td>M7C\n </td>\n <td>Not assigned\n </td>\n <td>\n </td></tr>, <tr>\n <td>M8C\n </td>\n <td>Not assigned\n </td>\n <td>\n </td></tr>, <tr>\n <td>M9C\n </td>\n <td>Etobicoke\n </td>\n <td>Eringate / Bloordale Gardens / Old Burnhamthorpe / Markland Wood\n </td></tr>, <tr>\n <td>M1E\n </td>\n <td>Scarborough\n </td>\n <td>Guildwood / Morningside / West Hill\n </td></tr>, <tr>\n <td>M2E\n </td>\n <td>Not assigned\n </td>\n <td>\n </td></tr>, <tr>\n <td>M3E\n </td>\n <td>Not assigned\n </td>\n <td>\n </td></tr>, <tr>\n <td>M4E\n </td>\n <td>East Toronto\n </td>\n <td>The Beaches\n </td></tr>, <tr>\n <td>M5E\n </td>\n <td>Downtown Toronto\n </td>\n <td>Berczy Park\n </td></tr>, <tr>\n <td>M6E\n </td>\n <td>York\n </td>\n <td>Caledonia-Fairbanks\n </td></tr>, <tr>\n <td>M7E\n </td>\n <td>Not assigned\n </td>\n <td>\n </td></tr>, <tr>\n <td>M8E\n </td>\n <td>Not assigned\n </td>\n <td>\n </td></tr>, <tr>\n <td>M9E\n </td>\n <td>Not assigned\n </td>\n <td>\n </td></tr>, <tr>\n <td>M1G\n </td>\n <td>Scarborough\n </td>\n <td>Woburn\n </td></tr>, <tr>\n <td>M2G\n </td>\n <td>Not assigned\n </td>\n <td>\n </td></tr>, <tr>\n <td>M3G\n </td>\n <td>Not assigned\n </td>\n <td>\n </td></tr>, <tr>\n <td>M4G\n </td>\n <td>East York\n </td>\n <td>Leaside\n </td></tr>, <tr>\n <td>M5G\n </td>\n <td>Downtown Toronto\n </td>\n <td>Central Bay Street\n </td></tr>, <tr>\n <td>M6G\n </td>\n <td>Downtown Toronto\n </td>\n <td>Christie\n </td></tr>, <tr>\n <td>M7G\n </td>\n <td>Not assigned\n </td>\n <td>\n </td></tr>, <tr>\n <td>M8G\n </td>\n <td>Not assigned\n </td>\n <td>\n </td></tr>, <tr>\n <td>M9G\n </td>\n <td>Not assigned\n </td>\n <td>\n </td></tr>, <tr>\n <td>M1H\n </td>\n <td>Scarborough\n </td>\n <td>Cedarbrae\n </td></tr>, <tr>\n <td>M2H\n </td>\n <td>North York\n </td>\n <td>Hillcrest Village\n </td></tr>, <tr>\n <td>M3H\n </td>\n <td>North York\n </td>\n <td>Bathurst Manor / Wilson Heights / Downsview North\n </td></tr>, <tr>\n <td>M4H\n </td>\n <td>East York\n </td>\n <td>Thorncliffe Park\n </td></tr>, <tr>\n <td>M5H\n </td>\n <td>Downtown Toronto\n </td>\n <td>Richmond / Adelaide / King\n </td></tr>, <tr>\n <td>M6H\n </td>\n <td>West Toronto\n </td>\n <td>Dufferin / Dovercourt Village\n </td></tr>, <tr>\n <td>M7H\n </td>\n <td>Not assigned\n </td>\n <td>\n </td></tr>, <tr>\n <td>M8H\n </td>\n <td>Not assigned\n </td>\n <td>\n </td></tr>, <tr>\n <td>M9H\n </td>\n <td>Not assigned\n </td>\n <td>\n </td></tr>, <tr>\n <td>M1J\n </td>\n <td>Scarborough\n </td>\n <td>Scarborough Village\n </td></tr>, <tr>\n <td>M2J\n </td>\n <td>North York\n </td>\n <td>Fairview / Henry Farm / Oriole\n </td></tr>, <tr>\n <td>M3J\n </td>\n <td>North York\n </td>\n <td>Northwood Park / York University\n </td></tr>, <tr>\n <td>M4J\n </td>\n <td>East York\n </td>\n <td>East Toronto\n </td></tr>, <tr>\n <td>M5J\n </td>\n <td>Downtown Toronto\n </td>\n <td>Harbourfront East / Union Station / Toronto Islands\n </td></tr>, <tr>\n <td>M6J\n </td>\n <td>West Toronto\n </td>\n <td>Little Portugal / Trinity\n </td></tr>, <tr>\n <td>M7J\n </td>\n <td>Not assigned\n </td>\n <td>\n </td></tr>, <tr>\n <td>M8J\n </td>\n <td>Not assigned\n </td>\n <td>\n </td></tr>, <tr>\n <td>M9J\n </td>\n <td>Not assigned\n </td>\n <td>\n </td></tr>, <tr>\n <td>M1K\n </td>\n <td>Scarborough\n </td>\n <td>Kennedy Park / Ionview / East Birchmount Park\n </td></tr>, <tr>\n <td>M2K\n </td>\n <td>North York\n </td>\n <td>Bayview Village\n </td></tr>, <tr>\n <td>M3K\n </td>\n <td>North York\n </td>\n <td>Downsview\n </td></tr>, <tr>\n <td>M4K\n </td>\n <td>East Toronto\n </td>\n <td>The Danforth West / Riverdale\n </td></tr>, <tr>\n <td>M5K\n </td>\n <td>Downtown Toronto\n </td>\n <td>Toronto Dominion Centre / Design Exchange\n </td></tr>, <tr>\n <td>M6K\n </td>\n <td>West Toronto\n </td>\n <td>Brockton / Parkdale Village / Exhibition Place\n </td></tr>, <tr>\n <td>M7K\n </td>\n <td>Not assigned\n </td>\n <td>\n </td></tr>, <tr>\n <td>M8K\n </td>\n <td>Not assigned\n </td>\n <td>\n </td></tr>, <tr>\n <td>M9K\n </td>\n <td>Not assigned\n </td>\n <td>\n </td></tr>, <tr>\n <td>M1L\n </td>\n <td>Scarborough\n </td>\n <td>Golden Mile / Clairlea / Oakridge\n </td></tr>, <tr>\n <td>M2L\n </td>\n <td>North York\n </td>\n <td>York Mills / Silver Hills\n </td></tr>, <tr>\n <td>M3L\n </td>\n <td>North York\n </td>\n <td>Downsview\n </td></tr>, <tr>\n <td>M4L\n </td>\n <td>East Toronto\n </td>\n <td>India Bazaar / The Beaches West\n </td></tr>, <tr>\n <td>M5L\n </td>\n <td>Downtown Toronto\n </td>\n <td>Commerce Court / Victoria Hotel\n </td></tr>, <tr>\n <td>M6L\n </td>\n <td>North York\n </td>\n <td>North Park / Maple Leaf Park / Upwood Park\n </td></tr>, <tr>\n <td>M7L\n </td>\n <td>Not assigned\n </td>\n <td>\n </td></tr>, <tr>\n <td>M8L\n </td>\n <td>Not assigned\n </td>\n <td>\n </td></tr>, <tr>\n <td>M9L\n </td>\n <td>North York\n </td>\n <td>Humber Summit\n </td></tr>, <tr>\n <td>M1M\n </td>\n <td>Scarborough\n </td>\n <td>Cliffside / Cliffcrest / Scarborough Village West\n </td></tr>, <tr>\n <td>M2M\n </td>\n <td>North York\n </td>\n <td>Willowdale / Newtonbrook\n </td></tr>, <tr>\n <td>M3M\n </td>\n <td>North York\n </td>\n <td>Downsview\n </td></tr>, <tr>\n <td>M4M\n </td>\n <td>East Toronto\n </td>\n <td>Studio District\n </td></tr>, <tr>\n <td>M5M\n </td>\n <td>North York\n </td>\n <td>Bedford Park / Lawrence Manor East\n </td></tr>, <tr>\n <td>M6M\n </td>\n <td>York\n </td>\n <td>Del Ray / Mount Dennis / Keelsdale and Silverthorn\n </td></tr>, <tr>\n <td>M7M\n </td>\n <td>Not assigned\n </td>\n <td>\n </td></tr>, <tr>\n <td>M8M\n </td>\n <td>Not assigned\n </td>\n <td>\n </td></tr>, <tr>\n <td>M9M\n </td>\n <td>North York\n </td>\n <td>Humberlea / Emery\n </td></tr>, <tr>\n <td>M1N\n </td>\n <td>Scarborough\n </td>\n <td>Birch Cliff / Cliffside West\n </td></tr>, <tr>\n <td>M2N\n </td>\n <td>North York\n </td>\n <td>Willowdale\n </td></tr>, <tr>\n <td>M3N\n </td>\n <td>North York\n </td>\n <td>Downsview\n </td></tr>, <tr>\n <td>M4N\n </td>\n <td>Central Toronto\n </td>\n <td>Lawrence Park\n </td></tr>, <tr>\n <td>M5N\n </td>\n <td>Central Toronto\n </td>\n <td>Roselawn\n </td></tr>, <tr>\n <td>M6N\n </td>\n <td>York\n </td>\n <td>Runnymede / The Junction North\n </td></tr>, <tr>\n <td>M7N\n </td>\n <td>Not assigned\n </td>\n <td>\n </td></tr>, <tr>\n <td>M8N\n </td>\n <td>Not assigned\n </td>\n <td>\n </td></tr>, <tr>\n <td>M9N\n </td>\n <td>York\n </td>\n <td>Weston\n </td></tr>, <tr>\n <td>M1P\n </td>\n <td>Scarborough\n </td>\n <td>Dorset Park / Wexford Heights / Scarborough Town Centre\n </td></tr>, <tr>\n <td>M2P\n </td>\n <td>North York\n </td>\n <td>York Mills West\n </td></tr>, <tr>\n <td>M3P\n </td>\n <td>Not assigned\n </td>\n <td>\n </td></tr>, <tr>\n <td>M4P\n </td>\n <td>Central Toronto\n </td>\n <td>Davisville North\n </td></tr>, <tr>\n <td>M5P\n </td>\n <td>Central Toronto\n </td>\n <td>Forest Hill North &amp; West\n </td></tr>, <tr>\n <td>M6P\n </td>\n <td>West Toronto\n </td>\n <td>High Park / The Junction South\n </td></tr>, <tr>\n <td>M7P\n </td>\n <td>Not assigned\n </td>\n <td>\n </td></tr>, <tr>\n <td>M8P\n </td>\n <td>Not assigned\n </td>\n <td>\n </td></tr>, <tr>\n <td>M9P\n </td>\n <td>Etobicoke\n </td>\n <td>Westmount\n </td></tr>, <tr>\n <td>M1R\n </td>\n <td>Scarborough\n </td>\n <td>Wexford / Maryvale\n </td></tr>, <tr>\n <td>M2R\n </td>\n <td>North York\n </td>\n <td>Willowdale\n </td></tr>, <tr>\n <td>M3R\n </td>\n <td>Not assigned\n </td>\n <td>\n </td></tr>, <tr>\n <td>M4R\n </td>\n <td>Central Toronto\n </td>\n <td>North Toronto West\n </td></tr>, <tr>\n <td>M5R\n </td>\n <td>Central Toronto\n </td>\n <td>The Annex / North Midtown / Yorkville\n </td></tr>, <tr>\n <td>M6R\n </td>\n <td>West Toronto\n </td>\n <td>Parkdale / Roncesvalles\n </td></tr>, <tr>\n <td>M7R\n </td>\n <td>Mississauga\n </td>\n <td>Canada Post Gateway Processing Centre\n </td></tr>, <tr>\n <td>M8R\n </td>\n <td>Not assigned\n </td>\n <td>\n </td></tr>, <tr>\n <td>M9R\n </td>\n <td>Etobicoke\n </td>\n <td>Kingsview Village / St. Phillips / Martin Grove Gardens / Richview Gardens\n </td></tr>, <tr>\n <td>M1S\n </td>\n <td>Scarborough\n </td>\n <td>Agincourt\n </td></tr>, <tr>\n <td>M2S\n </td>\n <td>Not assigned\n </td>\n <td>\n </td></tr>, <tr>\n <td>M3S\n </td>\n <td>Not assigned\n </td>\n <td>\n </td></tr>, <tr>\n <td>M4S\n </td>\n <td>Central Toronto\n </td>\n <td>Davisville\n </td></tr>, <tr>\n <td>M5S\n </td>\n <td>Downtown Toronto\n </td>\n <td>University of Toronto / Harbord\n </td></tr>, <tr>\n <td>M6S\n </td>\n <td>West Toronto\n </td>\n <td>Runnymede / Swansea\n </td></tr>, <tr>\n <td>M7S\n </td>\n <td>Not assigned\n </td>\n <td>\n </td></tr>, <tr>\n <td>M8S\n </td>\n <td>Not assigned\n </td>\n <td>\n </td></tr>, <tr>\n <td>M9S\n </td>\n <td>Not assigned\n </td>\n <td>\n </td></tr>, <tr>\n <td>M1T\n </td>\n <td>Scarborough\n </td>\n <td>Clarks Corners / Tam O'Shanter / Sullivan\n </td></tr>, <tr>\n <td>M2T\n </td>\n <td>Not assigned\n </td>\n <td>\n </td></tr>, <tr>\n <td>M3T\n </td>\n <td>Not assigned\n </td>\n <td>\n </td></tr>, <tr>\n <td>M4T\n </td>\n <td>Central Toronto\n </td>\n <td>Moore Park / Summerhill East\n </td></tr>, <tr>\n <td>M5T\n </td>\n <td>Downtown Toronto\n </td>\n <td>Kensington Market / Chinatown / Grange Park\n </td></tr>, <tr>\n <td>M6T\n </td>\n <td>Not assigned\n </td>\n <td>\n </td></tr>, <tr>\n <td>M7T\n </td>\n <td>Not assigned\n </td>\n <td>\n </td></tr>, <tr>\n <td>M8T\n </td>\n <td>Not assigned\n </td>\n <td>\n </td></tr>, <tr>\n <td>M9T\n </td>\n <td>Not assigned\n </td>\n <td>\n </td></tr>, <tr>\n <td>M1V\n </td>\n <td>Scarborough\n </td>\n <td>Milliken / Agincourt North / Steeles East / L'Amoreaux East\n </td></tr>, <tr>\n <td>M2V\n </td>\n <td>Not assigned\n </td>\n <td>\n </td></tr>, <tr>\n <td>M3V\n </td>\n <td>Not assigned\n </td>\n <td>\n </td></tr>, <tr>\n <td>M4V\n </td>\n <td>Central Toronto\n </td>\n <td>Summerhill West / Rathnelly / South Hill / Forest Hill SE / Deer Park\n </td></tr>, <tr>\n <td>M5V\n </td>\n <td>Downtown Toronto\n </td>\n <td>CN Tower / King and Spadina / Railway Lands / Harbourfront West / Bathurst Quay / South Niagara / Island airport\n </td></tr>, <tr>\n <td>M6V\n </td>\n <td>Not assigned\n </td>\n <td>\n </td></tr>, <tr>\n <td>M7V\n </td>\n <td>Not assigned\n </td>\n <td>\n </td></tr>, <tr>\n <td>M8V\n </td>\n <td>Etobicoke\n </td>\n <td>New Toronto / Mimico South / Humber Bay Shores\n </td></tr>, <tr>\n <td>M9V\n </td>\n <td>Etobicoke\n </td>\n <td>South Steeles / Silverstone / Humbergate / Jamestown / Mount Olive / Beaumond Heights / Thistletown / Albion Gardens\n </td></tr>, <tr>\n <td>M1W\n </td>\n <td>Scarborough\n </td>\n <td>Steeles West / L'Amoreaux West\n </td></tr>, <tr>\n <td>M2W\n </td>\n <td>Not assigned\n </td>\n <td>\n </td></tr>, <tr>\n <td>M3W\n </td>\n <td>Not assigned\n </td>\n <td>\n </td></tr>, <tr>\n <td>M4W\n </td>\n <td>Downtown Toronto\n </td>\n <td>Rosedale\n </td></tr>, <tr>\n <td>M5W\n </td>\n <td>Downtown Toronto\n </td>\n <td>Stn A PO Boxes\n </td></tr>, <tr>\n <td>M6W\n </td>\n <td>Not assigned\n </td>\n <td>\n </td></tr>, <tr>\n <td>M7W\n </td>\n <td>Not assigned\n </td>\n <td>\n </td></tr>, <tr>\n <td>M8W\n </td>\n <td>Etobicoke\n </td>\n <td>Alderwood / Long Branch\n </td></tr>, <tr>\n <td>M9W\n </td>\n <td>Etobicoke\n </td>\n <td>Northwest\n </td></tr>, <tr>\n <td>M1X\n </td>\n <td>Scarborough\n </td>\n <td>Upper Rouge\n </td></tr>, <tr>\n <td>M2X\n </td>\n <td>Not assigned\n </td>\n <td>\n </td></tr>, <tr>\n <td>M3X\n </td>\n <td>Not assigned\n </td>\n <td>\n </td></tr>, <tr>\n <td>M4X\n </td>\n <td>Downtown Toronto\n </td>\n <td>St. James Town / Cabbagetown\n </td></tr>, <tr>\n <td>M5X\n </td>\n <td>Downtown Toronto\n </td>\n <td>First Canadian Place / Underground city\n </td></tr>, <tr>\n <td>M6X\n </td>\n <td>Not assigned\n </td>\n <td>\n </td></tr>, <tr>\n <td>M7X\n </td>\n <td>Not assigned\n </td>\n <td>\n </td></tr>, <tr>\n <td>M8X\n </td>\n <td>Etobicoke\n </td>\n <td>The Kingsway / Montgomery Road  / Old Mill North\n </td></tr>, <tr>\n <td>M9X\n </td>\n <td>Not assigned\n </td>\n <td>\n </td></tr>, <tr>\n <td>M1Y\n </td>\n <td>Not assigned\n </td>\n <td>\n </td></tr>, <tr>\n <td>M2Y\n </td>\n <td>Not assigned\n </td>\n <td>\n </td></tr>, <tr>\n <td>M3Y\n </td>\n <td>Not assigned\n </td>\n <td>\n </td></tr>, <tr>\n <td>M4Y\n </td>\n <td>Downtown Toronto\n </td>\n <td>Church and Wellesley\n </td></tr>, <tr>\n <td>M5Y\n </td>\n <td>Not assigned\n </td>\n <td>\n </td></tr>, <tr>\n <td>M6Y\n </td>\n <td>Not assigned\n </td>\n <td>\n </td></tr>, <tr>\n <td>M7Y\n </td>\n <td>East Toronto\n </td>\n <td>Business reply mail Processing CentrE\n </td></tr>, <tr>\n <td>M8Y\n </td>\n <td>Etobicoke\n </td>\n <td>Old Mill South / King's Mill Park / Sunnylea / Humber Bay / Mimico NE / The Queensway East / Royal York South East / Kingsway Park South East\n </td></tr>, <tr>\n <td>M9Y\n </td>\n <td>Not assigned\n </td>\n <td>\n </td></tr>, <tr>\n <td>M1Z\n </td>\n <td>Not assigned\n </td>\n <td>\n </td></tr>, <tr>\n <td>M2Z\n </td>\n <td>Not assigned\n </td>\n <td>\n </td></tr>, <tr>\n <td>M3Z\n </td>\n <td>Not assigned\n </td>\n <td>\n </td></tr>, <tr>\n <td>M4Z\n </td>\n <td>Not assigned\n </td>\n <td>\n </td></tr>, <tr>\n <td>M5Z\n </td>\n <td>Not assigned\n </td>\n <td>\n </td></tr>, <tr>\n <td>M6Z\n </td>\n <td>Not assigned\n </td>\n <td>\n </td></tr>, <tr>\n <td>M7Z\n </td>\n <td>Not assigned\n </td>\n <td>\n </td></tr>, <tr>\n <td>M8Z\n </td>\n <td>Etobicoke\n </td>\n <td>Mimico NW / The Queensway West / South of Bloor / Kingsway Park South West / Royal York South West\n </td></tr>, <tr>\n <td>M9Z\n </td>\n <td>Not assigned\n </td>\n <td>\n </td></tr>]"
                    },
                    "metadata": {}
                }
            ]
        },
        {
            "metadata": {},
            "cell_type": "code",
            "source": "data = []\nfor row in table_rows:\n    data.append([t.text.strip() for t in row.find_all('td')])\n\ndf = pd.DataFrame(data, columns=['PostalCode', 'Borough', 'Neighbourhood'])\ndf = df[~df['PostalCode'].isnull()]  # to filter out bad rows\n\nprint(df.head(5))\nprint('***')\nprint(df.tail(5))",
            "execution_count": 7,
            "outputs": [
                {
                    "output_type": "stream",
                    "text": "  PostalCode           Borough               Neighbourhood\n1        M1A      Not assigned                            \n2        M2A      Not assigned                            \n3        M3A        North York                   Parkwoods\n4        M4A        North York            Victoria Village\n5        M5A  Downtown Toronto  Regent Park / Harbourfront\n***\n    PostalCode       Borough  \\\n176        M5Z  Not assigned   \n177        M6Z  Not assigned   \n178        M7Z  Not assigned   \n179        M8Z     Etobicoke   \n180        M9Z  Not assigned   \n\n                                         Neighbourhood  \n176                                                     \n177                                                     \n178                                                     \n179  Mimico NW / The Queensway West / South of Bloo...  \n180                                                     \n",
                    "name": "stdout"
                }
            ]
        },
        {
            "metadata": {},
            "cell_type": "markdown",
            "source": "## 1.3. Data transformed into pandas dataframe"
        },
        {
            "metadata": {},
            "cell_type": "code",
            "source": "df.info()",
            "execution_count": 8,
            "outputs": [
                {
                    "output_type": "stream",
                    "text": "<class 'pandas.core.frame.DataFrame'>\nInt64Index: 180 entries, 1 to 180\nData columns (total 3 columns):\nPostalCode       180 non-null object\nBorough          180 non-null object\nNeighbourhood    180 non-null object\ndtypes: object(3)\nmemory usage: 5.6+ KB\n",
                    "name": "stdout"
                }
            ]
        },
        {
            "metadata": {},
            "cell_type": "code",
            "source": "df.shape",
            "execution_count": 9,
            "outputs": [
                {
                    "output_type": "execute_result",
                    "execution_count": 9,
                    "data": {
                        "text/plain": "(180, 3)"
                    },
                    "metadata": {}
                }
            ]
        },
        {
            "metadata": {},
            "cell_type": "markdown",
            "source": "## 1.4. Dataframe cleaned and notebook annotate"
        },
        {
            "metadata": {},
            "cell_type": "code",
            "source": "df.drop(df[df['Borough']==\"Not assigned\"].index,axis=0, inplace=True)\ndf.head()",
            "execution_count": 10,
            "outputs": [
                {
                    "output_type": "execute_result",
                    "execution_count": 10,
                    "data": {
                        "text/plain": "  PostalCode           Borough                                 Neighbourhood\n3        M3A        North York                                     Parkwoods\n4        M4A        North York                              Victoria Village\n5        M5A  Downtown Toronto                    Regent Park / Harbourfront\n6        M6A        North York             Lawrence Manor / Lawrence Heights\n7        M7A  Downtown Toronto  Queen's Park / Ontario Provincial Government",
                        "text/html": "<div>\n<style scoped>\n    .dataframe tbody tr th:only-of-type {\n        vertical-align: middle;\n    }\n\n    .dataframe tbody tr th {\n        vertical-align: top;\n    }\n\n    .dataframe thead th {\n        text-align: right;\n    }\n</style>\n<table border=\"1\" class=\"dataframe\">\n  <thead>\n    <tr style=\"text-align: right;\">\n      <th></th>\n      <th>PostalCode</th>\n      <th>Borough</th>\n      <th>Neighbourhood</th>\n    </tr>\n  </thead>\n  <tbody>\n    <tr>\n      <th>3</th>\n      <td>M3A</td>\n      <td>North York</td>\n      <td>Parkwoods</td>\n    </tr>\n    <tr>\n      <th>4</th>\n      <td>M4A</td>\n      <td>North York</td>\n      <td>Victoria Village</td>\n    </tr>\n    <tr>\n      <th>5</th>\n      <td>M5A</td>\n      <td>Downtown Toronto</td>\n      <td>Regent Park / Harbourfront</td>\n    </tr>\n    <tr>\n      <th>6</th>\n      <td>M6A</td>\n      <td>North York</td>\n      <td>Lawrence Manor / Lawrence Heights</td>\n    </tr>\n    <tr>\n      <th>7</th>\n      <td>M7A</td>\n      <td>Downtown Toronto</td>\n      <td>Queen's Park / Ontario Provincial Government</td>\n    </tr>\n  </tbody>\n</table>\n</div>"
                    },
                    "metadata": {}
                }
            ]
        },
        {
            "metadata": {},
            "cell_type": "code",
            "source": "df1 = df.reset_index()\ndf1.head()",
            "execution_count": 11,
            "outputs": [
                {
                    "output_type": "execute_result",
                    "execution_count": 11,
                    "data": {
                        "text/plain": "   index PostalCode           Borough  \\\n0      3        M3A        North York   \n1      4        M4A        North York   \n2      5        M5A  Downtown Toronto   \n3      6        M6A        North York   \n4      7        M7A  Downtown Toronto   \n\n                                  Neighbourhood  \n0                                     Parkwoods  \n1                              Victoria Village  \n2                    Regent Park / Harbourfront  \n3             Lawrence Manor / Lawrence Heights  \n4  Queen's Park / Ontario Provincial Government  ",
                        "text/html": "<div>\n<style scoped>\n    .dataframe tbody tr th:only-of-type {\n        vertical-align: middle;\n    }\n\n    .dataframe tbody tr th {\n        vertical-align: top;\n    }\n\n    .dataframe thead th {\n        text-align: right;\n    }\n</style>\n<table border=\"1\" class=\"dataframe\">\n  <thead>\n    <tr style=\"text-align: right;\">\n      <th></th>\n      <th>index</th>\n      <th>PostalCode</th>\n      <th>Borough</th>\n      <th>Neighbourhood</th>\n    </tr>\n  </thead>\n  <tbody>\n    <tr>\n      <th>0</th>\n      <td>3</td>\n      <td>M3A</td>\n      <td>North York</td>\n      <td>Parkwoods</td>\n    </tr>\n    <tr>\n      <th>1</th>\n      <td>4</td>\n      <td>M4A</td>\n      <td>North York</td>\n      <td>Victoria Village</td>\n    </tr>\n    <tr>\n      <th>2</th>\n      <td>5</td>\n      <td>M5A</td>\n      <td>Downtown Toronto</td>\n      <td>Regent Park / Harbourfront</td>\n    </tr>\n    <tr>\n      <th>3</th>\n      <td>6</td>\n      <td>M6A</td>\n      <td>North York</td>\n      <td>Lawrence Manor / Lawrence Heights</td>\n    </tr>\n    <tr>\n      <th>4</th>\n      <td>7</td>\n      <td>M7A</td>\n      <td>Downtown Toronto</td>\n      <td>Queen's Park / Ontario Provincial Government</td>\n    </tr>\n  </tbody>\n</table>\n</div>"
                    },
                    "metadata": {}
                }
            ]
        },
        {
            "metadata": {},
            "cell_type": "code",
            "source": "df1.info()",
            "execution_count": 12,
            "outputs": [
                {
                    "output_type": "stream",
                    "text": "<class 'pandas.core.frame.DataFrame'>\nRangeIndex: 103 entries, 0 to 102\nData columns (total 4 columns):\nindex            103 non-null int64\nPostalCode       103 non-null object\nBorough          103 non-null object\nNeighbourhood    103 non-null object\ndtypes: int64(1), object(3)\nmemory usage: 3.3+ KB\n",
                    "name": "stdout"
                }
            ]
        },
        {
            "metadata": {},
            "cell_type": "code",
            "source": "df1.shape",
            "execution_count": 13,
            "outputs": [
                {
                    "output_type": "execute_result",
                    "execution_count": 13,
                    "data": {
                        "text/plain": "(103, 4)"
                    },
                    "metadata": {}
                }
            ]
        },
        {
            "metadata": {},
            "cell_type": "code",
            "source": "df2= df1.groupby('PostalCode').agg(lambda x: ','.join(x))\n\ndf2.head()",
            "execution_count": 14,
            "outputs": [
                {
                    "output_type": "execute_result",
                    "execution_count": 14,
                    "data": {
                        "text/plain": "                Borough                             Neighbourhood\nPostalCode                                                       \nM1B         Scarborough                           Malvern / Rouge\nM1C         Scarborough  Rouge Hill / Port Union / Highland Creek\nM1E         Scarborough       Guildwood / Morningside / West Hill\nM1G         Scarborough                                    Woburn\nM1H         Scarborough                                 Cedarbrae",
                        "text/html": "<div>\n<style scoped>\n    .dataframe tbody tr th:only-of-type {\n        vertical-align: middle;\n    }\n\n    .dataframe tbody tr th {\n        vertical-align: top;\n    }\n\n    .dataframe thead th {\n        text-align: right;\n    }\n</style>\n<table border=\"1\" class=\"dataframe\">\n  <thead>\n    <tr style=\"text-align: right;\">\n      <th></th>\n      <th>Borough</th>\n      <th>Neighbourhood</th>\n    </tr>\n    <tr>\n      <th>PostalCode</th>\n      <th></th>\n      <th></th>\n    </tr>\n  </thead>\n  <tbody>\n    <tr>\n      <th>M1B</th>\n      <td>Scarborough</td>\n      <td>Malvern / Rouge</td>\n    </tr>\n    <tr>\n      <th>M1C</th>\n      <td>Scarborough</td>\n      <td>Rouge Hill / Port Union / Highland Creek</td>\n    </tr>\n    <tr>\n      <th>M1E</th>\n      <td>Scarborough</td>\n      <td>Guildwood / Morningside / West Hill</td>\n    </tr>\n    <tr>\n      <th>M1G</th>\n      <td>Scarborough</td>\n      <td>Woburn</td>\n    </tr>\n    <tr>\n      <th>M1H</th>\n      <td>Scarborough</td>\n      <td>Cedarbrae</td>\n    </tr>\n  </tbody>\n</table>\n</div>"
                    },
                    "metadata": {}
                }
            ]
        },
        {
            "metadata": {},
            "cell_type": "code",
            "source": "df2.info()",
            "execution_count": 15,
            "outputs": [
                {
                    "output_type": "stream",
                    "text": "<class 'pandas.core.frame.DataFrame'>\nIndex: 103 entries, M1B to M9W\nData columns (total 2 columns):\nBorough          103 non-null object\nNeighbourhood    103 non-null object\ndtypes: object(2)\nmemory usage: 2.4+ KB\n",
                    "name": "stdout"
                }
            ]
        },
        {
            "metadata": {},
            "cell_type": "code",
            "source": "df2.shape",
            "execution_count": 16,
            "outputs": [
                {
                    "output_type": "execute_result",
                    "execution_count": 16,
                    "data": {
                        "text/plain": "(103, 2)"
                    },
                    "metadata": {}
                }
            ]
        },
        {
            "metadata": {},
            "cell_type": "code",
            "source": "df2.loc[df2['Neighbourhood']==\"Not assigned\",'Neighbourhood']=df2.loc[df2['Neighbourhood']==\"Not assigned\",'Borough']\n\n#df2.head(30)",
            "execution_count": 17,
            "outputs": []
        },
        {
            "metadata": {},
            "cell_type": "code",
            "source": "df3 = df2.reset_index()\ndf3.head()",
            "execution_count": 18,
            "outputs": [
                {
                    "output_type": "execute_result",
                    "execution_count": 18,
                    "data": {
                        "text/plain": "  PostalCode      Borough                             Neighbourhood\n0        M1B  Scarborough                           Malvern / Rouge\n1        M1C  Scarborough  Rouge Hill / Port Union / Highland Creek\n2        M1E  Scarborough       Guildwood / Morningside / West Hill\n3        M1G  Scarborough                                    Woburn\n4        M1H  Scarborough                                 Cedarbrae",
                        "text/html": "<div>\n<style scoped>\n    .dataframe tbody tr th:only-of-type {\n        vertical-align: middle;\n    }\n\n    .dataframe tbody tr th {\n        vertical-align: top;\n    }\n\n    .dataframe thead th {\n        text-align: right;\n    }\n</style>\n<table border=\"1\" class=\"dataframe\">\n  <thead>\n    <tr style=\"text-align: right;\">\n      <th></th>\n      <th>PostalCode</th>\n      <th>Borough</th>\n      <th>Neighbourhood</th>\n    </tr>\n  </thead>\n  <tbody>\n    <tr>\n      <th>0</th>\n      <td>M1B</td>\n      <td>Scarborough</td>\n      <td>Malvern / Rouge</td>\n    </tr>\n    <tr>\n      <th>1</th>\n      <td>M1C</td>\n      <td>Scarborough</td>\n      <td>Rouge Hill / Port Union / Highland Creek</td>\n    </tr>\n    <tr>\n      <th>2</th>\n      <td>M1E</td>\n      <td>Scarborough</td>\n      <td>Guildwood / Morningside / West Hill</td>\n    </tr>\n    <tr>\n      <th>3</th>\n      <td>M1G</td>\n      <td>Scarborough</td>\n      <td>Woburn</td>\n    </tr>\n    <tr>\n      <th>4</th>\n      <td>M1H</td>\n      <td>Scarborough</td>\n      <td>Cedarbrae</td>\n    </tr>\n  </tbody>\n</table>\n</div>"
                    },
                    "metadata": {}
                }
            ]
        },
        {
            "metadata": {},
            "cell_type": "code",
            "source": "df3['Borough']= df3['Borough'].str.replace('nan|[{}\\s]','').str.split(',').apply(set).str.join(',').str.strip(',').str.replace(\",{2,}\",\",\")",
            "execution_count": 19,
            "outputs": []
        },
        {
            "metadata": {},
            "cell_type": "code",
            "source": "df3.head()",
            "execution_count": 20,
            "outputs": [
                {
                    "output_type": "execute_result",
                    "execution_count": 20,
                    "data": {
                        "text/plain": "  PostalCode      Borough                             Neighbourhood\n0        M1B  Scarborough                           Malvern / Rouge\n1        M1C  Scarborough  Rouge Hill / Port Union / Highland Creek\n2        M1E  Scarborough       Guildwood / Morningside / West Hill\n3        M1G  Scarborough                                    Woburn\n4        M1H  Scarborough                                 Cedarbrae",
                        "text/html": "<div>\n<style scoped>\n    .dataframe tbody tr th:only-of-type {\n        vertical-align: middle;\n    }\n\n    .dataframe tbody tr th {\n        vertical-align: top;\n    }\n\n    .dataframe thead th {\n        text-align: right;\n    }\n</style>\n<table border=\"1\" class=\"dataframe\">\n  <thead>\n    <tr style=\"text-align: right;\">\n      <th></th>\n      <th>PostalCode</th>\n      <th>Borough</th>\n      <th>Neighbourhood</th>\n    </tr>\n  </thead>\n  <tbody>\n    <tr>\n      <th>0</th>\n      <td>M1B</td>\n      <td>Scarborough</td>\n      <td>Malvern / Rouge</td>\n    </tr>\n    <tr>\n      <th>1</th>\n      <td>M1C</td>\n      <td>Scarborough</td>\n      <td>Rouge Hill / Port Union / Highland Creek</td>\n    </tr>\n    <tr>\n      <th>2</th>\n      <td>M1E</td>\n      <td>Scarborough</td>\n      <td>Guildwood / Morningside / West Hill</td>\n    </tr>\n    <tr>\n      <th>3</th>\n      <td>M1G</td>\n      <td>Scarborough</td>\n      <td>Woburn</td>\n    </tr>\n    <tr>\n      <th>4</th>\n      <td>M1H</td>\n      <td>Scarborough</td>\n      <td>Cedarbrae</td>\n    </tr>\n  </tbody>\n</table>\n</div>"
                    },
                    "metadata": {}
                }
            ]
        },
        {
            "metadata": {},
            "cell_type": "code",
            "source": "df3.info()",
            "execution_count": 21,
            "outputs": [
                {
                    "output_type": "stream",
                    "text": "<class 'pandas.core.frame.DataFrame'>\nRangeIndex: 103 entries, 0 to 102\nData columns (total 3 columns):\nPostalCode       103 non-null object\nBorough          103 non-null object\nNeighbourhood    103 non-null object\ndtypes: object(3)\nmemory usage: 2.5+ KB\n",
                    "name": "stdout"
                }
            ]
        },
        {
            "metadata": {},
            "cell_type": "code",
            "source": "df3.shape",
            "execution_count": 22,
            "outputs": [
                {
                    "output_type": "execute_result",
                    "execution_count": 22,
                    "data": {
                        "text/plain": "(103, 3)"
                    },
                    "metadata": {}
                }
            ]
        },
        {
            "metadata": {},
            "cell_type": "code",
            "source": "#df3.head(20)",
            "execution_count": 23,
            "outputs": []
        },
        {
            "metadata": {},
            "cell_type": "code",
            "source": "df3['Neighbourhood']= df3['Neighbourhood'].str.replace(' /',',')",
            "execution_count": 24,
            "outputs": []
        },
        {
            "metadata": {},
            "cell_type": "code",
            "source": "df3.head()",
            "execution_count": 25,
            "outputs": [
                {
                    "output_type": "execute_result",
                    "execution_count": 25,
                    "data": {
                        "text/plain": "  PostalCode      Borough                           Neighbourhood\n0        M1B  Scarborough                          Malvern, Rouge\n1        M1C  Scarborough  Rouge Hill, Port Union, Highland Creek\n2        M1E  Scarborough       Guildwood, Morningside, West Hill\n3        M1G  Scarborough                                  Woburn\n4        M1H  Scarborough                               Cedarbrae",
                        "text/html": "<div>\n<style scoped>\n    .dataframe tbody tr th:only-of-type {\n        vertical-align: middle;\n    }\n\n    .dataframe tbody tr th {\n        vertical-align: top;\n    }\n\n    .dataframe thead th {\n        text-align: right;\n    }\n</style>\n<table border=\"1\" class=\"dataframe\">\n  <thead>\n    <tr style=\"text-align: right;\">\n      <th></th>\n      <th>PostalCode</th>\n      <th>Borough</th>\n      <th>Neighbourhood</th>\n    </tr>\n  </thead>\n  <tbody>\n    <tr>\n      <th>0</th>\n      <td>M1B</td>\n      <td>Scarborough</td>\n      <td>Malvern, Rouge</td>\n    </tr>\n    <tr>\n      <th>1</th>\n      <td>M1C</td>\n      <td>Scarborough</td>\n      <td>Rouge Hill, Port Union, Highland Creek</td>\n    </tr>\n    <tr>\n      <th>2</th>\n      <td>M1E</td>\n      <td>Scarborough</td>\n      <td>Guildwood, Morningside, West Hill</td>\n    </tr>\n    <tr>\n      <th>3</th>\n      <td>M1G</td>\n      <td>Scarborough</td>\n      <td>Woburn</td>\n    </tr>\n    <tr>\n      <th>4</th>\n      <td>M1H</td>\n      <td>Scarborough</td>\n      <td>Cedarbrae</td>\n    </tr>\n  </tbody>\n</table>\n</div>"
                    },
                    "metadata": {}
                }
            ]
        },
        {
            "metadata": {},
            "cell_type": "code",
            "source": "",
            "execution_count": null,
            "outputs": []
        }
    ],
    "metadata": {
        "kernelspec": {
            "name": "python3",
            "display_name": "Python 3.6",
            "language": "python"
        },
        "language_info": {
            "name": "python",
            "version": "3.6.9",
            "mimetype": "text/x-python",
            "codemirror_mode": {
                "name": "ipython",
                "version": 3
            },
            "pygments_lexer": "ipython3",
            "nbconvert_exporter": "python",
            "file_extension": ".py"
        }
    },
    "nbformat": 4,
    "nbformat_minor": 1
}
